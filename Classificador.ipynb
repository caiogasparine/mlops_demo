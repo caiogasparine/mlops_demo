{
 "cells": [
  {
   "cell_type": "code",
   "execution_count": 4,
   "metadata": {},
   "outputs": [],
   "source": [
    "import pandas as pd\n",
    "import numpy as np\n",
    "#import matplotlib.pyplot as plt\n",
    "#import seaborn as sns\n",
    "\n",
    "#import pickle as pickle"
   ]
  },
  {
   "cell_type": "code",
   "execution_count": 5,
   "metadata": {},
   "outputs": [
    {
     "ename": "ValueError",
     "evalue": "Must setup local AWS configuration with a region supported by SageMaker.",
     "output_type": "error",
     "traceback": [
      "\u001b[1;31m---------------------------------------------------------------------------\u001b[0m",
      "\u001b[1;31mValueError\u001b[0m                                Traceback (most recent call last)",
      "\u001b[1;32m<ipython-input-5-be708089f30b>\u001b[0m in \u001b[0;36m<module>\u001b[1;34m\u001b[0m\n\u001b[0;32m      8\u001b[0m \u001b[1;33m\u001b[0m\u001b[0m\n\u001b[0;32m      9\u001b[0m \u001b[0mprefix\u001b[0m \u001b[1;33m=\u001b[0m \u001b[1;34m\"sagemaker/dt-CTA\"\u001b[0m\u001b[1;33m\u001b[0m\u001b[1;33m\u001b[0m\u001b[0m\n\u001b[1;32m---> 10\u001b[1;33m \u001b[0msagemaker_session\u001b[0m \u001b[1;33m=\u001b[0m \u001b[0msagemaker\u001b[0m\u001b[1;33m.\u001b[0m\u001b[0mSession\u001b[0m\u001b[1;33m(\u001b[0m\u001b[1;33m)\u001b[0m\u001b[1;33m\u001b[0m\u001b[1;33m\u001b[0m\u001b[0m\n\u001b[0m\u001b[0;32m     11\u001b[0m \u001b[1;33m\u001b[0m\u001b[0m\n\u001b[0;32m     12\u001b[0m \u001b[0mrole\u001b[0m \u001b[1;33m=\u001b[0m \u001b[0msys\u001b[0m\u001b[1;33m.\u001b[0m\u001b[0margv\u001b[0m\u001b[1;33m[\u001b[0m\u001b[1;36m1\u001b[0m\u001b[1;33m]\u001b[0m\u001b[1;33m\u001b[0m\u001b[1;33m\u001b[0m\u001b[0m\n",
      "\u001b[1;32mc:\\users\\diego nogare\\appdata\\local\\programs\\python\\python39\\lib\\site-packages\\sagemaker\\session.py\u001b[0m in \u001b[0;36m__init__\u001b[1;34m(self, boto_session, sagemaker_client, sagemaker_runtime_client, sagemaker_featurestore_runtime_client, default_bucket)\u001b[0m\n\u001b[0;32m    118\u001b[0m         \u001b[0mself\u001b[0m\u001b[1;33m.\u001b[0m\u001b[0mconfig\u001b[0m \u001b[1;33m=\u001b[0m \u001b[1;32mNone\u001b[0m\u001b[1;33m\u001b[0m\u001b[1;33m\u001b[0m\u001b[0m\n\u001b[0;32m    119\u001b[0m \u001b[1;33m\u001b[0m\u001b[0m\n\u001b[1;32m--> 120\u001b[1;33m         self._initialize(\n\u001b[0m\u001b[0;32m    121\u001b[0m             \u001b[0mboto_session\u001b[0m\u001b[1;33m=\u001b[0m\u001b[0mboto_session\u001b[0m\u001b[1;33m,\u001b[0m\u001b[1;33m\u001b[0m\u001b[1;33m\u001b[0m\u001b[0m\n\u001b[0;32m    122\u001b[0m             \u001b[0msagemaker_client\u001b[0m\u001b[1;33m=\u001b[0m\u001b[0msagemaker_client\u001b[0m\u001b[1;33m,\u001b[0m\u001b[1;33m\u001b[0m\u001b[1;33m\u001b[0m\u001b[0m\n",
      "\u001b[1;32mc:\\users\\diego nogare\\appdata\\local\\programs\\python\\python39\\lib\\site-packages\\sagemaker\\session.py\u001b[0m in \u001b[0;36m_initialize\u001b[1;34m(self, boto_session, sagemaker_client, sagemaker_runtime_client, sagemaker_featurestore_runtime_client)\u001b[0m\n\u001b[0;32m    141\u001b[0m         \u001b[0mself\u001b[0m\u001b[1;33m.\u001b[0m\u001b[0m_region_name\u001b[0m \u001b[1;33m=\u001b[0m \u001b[0mself\u001b[0m\u001b[1;33m.\u001b[0m\u001b[0mboto_session\u001b[0m\u001b[1;33m.\u001b[0m\u001b[0mregion_name\u001b[0m\u001b[1;33m\u001b[0m\u001b[1;33m\u001b[0m\u001b[0m\n\u001b[0;32m    142\u001b[0m         \u001b[1;32mif\u001b[0m \u001b[0mself\u001b[0m\u001b[1;33m.\u001b[0m\u001b[0m_region_name\u001b[0m \u001b[1;32mis\u001b[0m \u001b[1;32mNone\u001b[0m\u001b[1;33m:\u001b[0m\u001b[1;33m\u001b[0m\u001b[1;33m\u001b[0m\u001b[0m\n\u001b[1;32m--> 143\u001b[1;33m             raise ValueError(\n\u001b[0m\u001b[0;32m    144\u001b[0m                 \u001b[1;34m\"Must setup local AWS configuration with a region supported by SageMaker.\"\u001b[0m\u001b[1;33m\u001b[0m\u001b[1;33m\u001b[0m\u001b[0m\n\u001b[0;32m    145\u001b[0m             )\n",
      "\u001b[1;31mValueError\u001b[0m: Must setup local AWS configuration with a region supported by SageMaker."
     ]
    }
   ],
   "source": [
    "import time\n",
    "import sys\n",
    "import sagemaker\n",
    "\n",
    "from sagemaker.pytorch import PyTorch\n",
    "#from torchvision import datasets, transforms\n",
    "\n",
    "\n",
    "prefix = \"sagemaker/dt-CTA\"\n",
    "sagemaker_session = sagemaker.Session()\n",
    "\n",
    "role = sys.argv[1]\n",
    "bucket = sys.argv[2]\n",
    "stack_name = sys.argv[3]\n",
    "commit_id = sys.argv[4]\n",
    "commit_id = commit_id[0:7]\n",
    "\n",
    "timestamp = time.strftime(\"%Y-%m-%d-%H-%M-%S\", time.gmtime())\n",
    "job_name = stack_name + \"-\" + commit_id + \"-\" + timestamp\n"
   ]
  },
  {
   "cell_type": "code",
   "execution_count": null,
   "metadata": {},
   "outputs": [],
   "source": [
    "from random import sample\n",
    "import random\n",
    "\n",
    "from sklearn import tree\n",
    "from sklearn.model_selection import cross_val_score\n",
    "from sklearn import metrics\n",
    "from IPython.display import Image\n",
    "from pydotplus import graph_from_dot_data"
   ]
  },
  {
   "cell_type": "code",
   "execution_count": null,
   "metadata": {},
   "outputs": [],
   "source": [
    "df = pd.read_csv('Telescope data.csv')\n",
    "\n",
    "np.random.seed(42)"
   ]
  },
  {
   "cell_type": "code",
   "execution_count": null,
   "metadata": {},
   "outputs": [],
   "source": [
    "#one_hot_class = pd.get_dummies(df['Class'])\n",
    "#df = df.join(one_hot_class)\n",
    "\n",
    "df['Class_num'] = np.where(df['Class'] == 'g', 1.0, 0.0)"
   ]
  },
  {
   "cell_type": "code",
   "execution_count": null,
   "metadata": {},
   "outputs": [],
   "source": [
    "df = df.drop(['Class'],axis=1)"
   ]
  },
  {
   "cell_type": "code",
   "execution_count": null,
   "metadata": {},
   "outputs": [],
   "source": [
    "# Explore the data set\n",
    "col_names = df.columns.tolist()\n",
    "#df.shape\n",
    "#df.describe"
   ]
  },
  {
   "cell_type": "code",
   "execution_count": null,
   "metadata": {},
   "outputs": [],
   "source": [
    "# Split data into train, test and validate\n",
    "# 80% - train set, 20% - validation set\n",
    "train, test = np.split( df.sample(frac=1), [int(.8*len(df))])\n",
    "\n",
    "print(train.shape, test.shape)\n",
    "\n",
    "# Separate target and predictors\n",
    "y_train = train['Class_num']\n",
    "x_train = train.drop(['Class_num'], axis=1)\n",
    "y_test = test['Class_num']\n",
    "x_test = test.drop(['Class_num'], axis=1)\n"
   ]
  },
  {
   "cell_type": "code",
   "execution_count": null,
   "metadata": {},
   "outputs": [],
   "source": [
    "# Create variable lists and drop\n",
    "all_vars = x_train.columns.tolist()\n",
    "top_5_vars = ['fAlpha', 'fLength', 'fWidth', 'fSize', 'fM3Long']\n",
    "bottom_vars = [cols for cols in all_vars if cols not in top_5_vars]\n",
    "\n",
    "# Drop less important variables leaving the top_5\n",
    "x_train    = x_train.drop(bottom_vars, axis=1)\n",
    "x_test     = x_test.drop(bottom_vars, axis=1)\n"
   ]
  },
  {
   "cell_type": "code",
   "execution_count": null,
   "metadata": {},
   "outputs": [],
   "source": [
    "# Instantiate with a max depth of 3\n",
    "tree_model = tree.DecisionTreeClassifier(max_depth=3)\n",
    "# Fit a decision tree\n",
    "tree_model = tree_model.fit(x_train, y_train)\n",
    "# Training accuracy\n",
    "tree_model.score(x_train, y_train)\n",
    "\n",
    "# Predictions/probs on the test dataset\n",
    "predicted = pd.DataFrame(tree_model.predict(x_test))\n",
    "probs = pd.DataFrame(tree_model.predict_proba(x_test))\n",
    "\n",
    "# Store metrics\n",
    "tree_accuracy = metrics.accuracy_score(y_test, predicted)\n",
    "tree_roc_auc = metrics.roc_auc_score(y_test, probs[1])\n",
    "tree_confus_matrix = metrics.confusion_matrix(y_test, predicted)\n",
    "tree_classification_report = metrics.classification_report(y_test, predicted)\n",
    "tree_precision = metrics.precision_score(y_test, predicted, pos_label=1)\n",
    "tree_recall = metrics.recall_score(y_test, predicted, pos_label=1)\n",
    "tree_f1 = metrics.f1_score(y_test, predicted, pos_label=1)"
   ]
  },
  {
   "cell_type": "code",
   "execution_count": null,
   "metadata": {},
   "outputs": [],
   "source": [
    "endpoint_name = f\"{stack_name}-{commit_id[:7]}\"\n",
    "\n",
    "predictor = tree_model.deploy(\n",
    "    initial_instance_count=1, instance_type=\"ml.m4.xlarge\", endpoint_name=endpoint_name\n",
    ")\n"
   ]
  },
  {
   "cell_type": "code",
   "execution_count": null,
   "metadata": {},
   "outputs": [],
   "source": [
    "#umaLinha = pd.DataFrame({\n",
    "#    'fLength':[19.2512],\n",
    "#    'fWidth':[14.7951],\n",
    "#    'fSize':[2.2954],\n",
    "#    'fM3Long':[8.9581],\n",
    "#    'fAlpha':[51.6492]  \n",
    "#})\n",
    "\n",
    "\n",
    "#linhaAleatoria = int(random.random()*len(df))\n",
    "#df.iloc[linhaAleatoria]\n",
    "\n",
    "#print(df.head(1))\n",
    "#print(umaLinha)"
   ]
  }
 ],
 "metadata": {
  "kernelspec": {
   "display_name": "Python 3",
   "language": "python",
   "name": "python3"
  },
  "language_info": {
   "codemirror_mode": {
    "name": "ipython",
    "version": 3
   },
   "file_extension": ".py",
   "mimetype": "text/x-python",
   "name": "python",
   "nbconvert_exporter": "python",
   "pygments_lexer": "ipython3",
   "version": "3.9.0"
  },
  "nav_menu": {
   "height": "264px",
   "width": "369px"
  },
  "toc": {
   "navigate_menu": true,
   "number_sections": true,
   "sideBar": true,
   "threshold": 6,
   "toc_cell": false,
   "toc_section_display": "block",
   "toc_window_display": false
  }
 },
 "nbformat": 4,
 "nbformat_minor": 1
}
