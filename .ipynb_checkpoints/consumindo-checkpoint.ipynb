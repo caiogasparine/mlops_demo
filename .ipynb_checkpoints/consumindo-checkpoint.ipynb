{
 "cells": [
  {
   "cell_type": "code",
   "execution_count": 1,
   "metadata": {},
   "outputs": [],
   "source": [
    "#import pickle as pickle\n",
    "import pandas as pd\n",
    "import numpy as np\n",
    "import requests"
   ]
  },
  {
   "cell_type": "code",
   "execution_count": 3,
   "metadata": {},
   "outputs": [],
   "source": [
    "umaLinha = pd.DataFrame({\n",
    "    'fLength':[19.2512],\n",
    "    'fWidth':[14.7951],\n",
    "    'fSize':[2.2954],\n",
    "    'fM3Long':[8.9581],\n",
    "    'fAlpha':[51.6492]  \n",
    "})\n",
    "\n",
    "#resultado = pd.DataFrame(DT_Telescopio.predict(umaLinha))\n",
    "#probabilidade = pd.DataFrame(DT_Telescopio.predict_proba(umaLinha))\n"
   ]
  },
  {
   "cell_type": "code",
   "execution_count": null,
   "metadata": {},
   "outputs": [],
   "source": []
  },
  {
   "cell_type": "code",
   "execution_count": null,
   "metadata": {},
   "outputs": [],
   "source": [
    "import sys\n",
    "import numpy as np\n",
    "\n",
    "stack_name = sys.argv[1]\n",
    "commit_id = sys.argv[2]\n",
    "endpoint_name = f\"{stack_name}-{commit_id[:7]}\"\n"
   ]
  },
  {
   "cell_type": "code",
   "execution_count": null,
   "metadata": {},
   "outputs": [],
   "source": [
    "response = runtime.invoke_endpoint(\n",
    "    EndpointName=endpoint_name, Body=umaLinha, ContentType=\"application/json\"\n",
    ")\n",
    "\n",
    "result = response[\"Body\"].read()\n",
    "result = json.loads(result.decode(\"utf-8\"))\n",
    "\n",
    "print(f\"Probabilities: {result}\")\n"
   ]
  }
 ],
 "metadata": {
  "kernelspec": {
   "display_name": "Python 3",
   "language": "python",
   "name": "python3"
  },
  "language_info": {
   "codemirror_mode": {
    "name": "ipython",
    "version": 3
   },
   "file_extension": ".py",
   "mimetype": "text/x-python",
   "name": "python",
   "nbconvert_exporter": "python",
   "pygments_lexer": "ipython3",
   "version": "3.9.0"
  }
 },
 "nbformat": 4,
 "nbformat_minor": 4
}
